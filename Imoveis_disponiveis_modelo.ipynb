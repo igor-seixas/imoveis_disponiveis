{
 "cells": [
  {
   "cell_type": "markdown",
   "metadata": {},
   "source": [
    "# Web Scraping - Verificando quantidade de imóveis disponíveis para locação nas imobiliárias da cidade\n"
   ]
  },
  {
   "cell_type": "markdown",
   "metadata": {},
   "source": [
    "### Vai criar um excel com a informação capturada e um gráfico em barras"
   ]
  },
  {
   "cell_type": "markdown",
   "metadata": {},
   "source": [
    "##### Importar todas as bibliotecas"
   ]
  },
  {
   "cell_type": "code",
   "execution_count": null,
   "metadata": {},
   "outputs": [],
   "source": [
    "from selenium import webdriver\n",
    "import time\n",
    "import pandas as pd\n",
    "from datetime import datetime\n",
    "from datetime import date\n",
    "import matplotlib.pyplot as plt\n",
    "import yagmail"
   ]
  },
  {
   "cell_type": "markdown",
   "metadata": {},
   "source": [
    "##### Data do dia em que o código rodar"
   ]
  },
  {
   "cell_type": "code",
   "execution_count": null,
   "metadata": {},
   "outputs": [],
   "source": [
    "data_atual = date.today()\n",
    "datahoje = data_atual.strftime('%d/%m/%Y')\n",
    "print(datahoje)"
   ]
  },
  {
   "cell_type": "markdown",
   "metadata": {},
   "source": [
    "##### Abrir o Chrome"
   ]
  },
  {
   "cell_type": "code",
   "execution_count": null,
   "metadata": {},
   "outputs": [],
   "source": [
    "chrome_options = webdriver.ChromeOptions()\n",
    "#chrome_options.add_argument('headless')  #Se quiser que não apareca o Chrome na tela, basta habilitar esse comentário\n",
    "driver = webdriver.Chrome(options=chrome_options)\n",
    "print('Abriu o navegador!')"
   ]
  },
  {
   "cell_type": "markdown",
   "metadata": {},
   "source": [
    "##### Legislar"
   ]
  },
  {
   "cell_type": "code",
   "execution_count": null,
   "metadata": {},
   "outputs": [],
   "source": [
    "driver.get('https://www.legislar.com.br/imoveis/2/aluguel')\n",
    "time.sleep(2)"
   ]
  },
  {
   "cell_type": "code",
   "execution_count": null,
   "metadata": {},
   "outputs": [],
   "source": [
    "driver.find_element_by_class_name('close').click()"
   ]
  },
  {
   "cell_type": "code",
   "execution_count": null,
   "metadata": {
    "scrolled": true
   },
   "outputs": [],
   "source": [
    "legislar = driver.find_element_by_tag_name('h4').text\n",
    "legislar = int(legislar[:3].strip())\n",
    "print(legislar)"
   ]
  },
  {
   "cell_type": "markdown",
   "metadata": {},
   "source": [
    "###### Cohab"
   ]
  },
  {
   "cell_type": "code",
   "execution_count": null,
   "metadata": {},
   "outputs": [],
   "source": [
    "driver.get('https://www.cohabpremium.com.br/pesquisa-de-imoveis/?locacao_venda=L&id_cidade%5B%5D=&id_tipo_imovel%5B%5D=&finalidade=0&dormitorio=0&garagem=0&vmi=&vma=')\n",
    "time.sleep(4)"
   ]
  },
  {
   "cell_type": "code",
   "execution_count": null,
   "metadata": {},
   "outputs": [],
   "source": [
    "cohab = driver.find_elements_by_tag_name('strong')[4].text\n",
    "print(cohab)\n",
    "cohab = int(cohab[:3])\n",
    "print(cohab)"
   ]
  },
  {
   "cell_type": "markdown",
   "metadata": {},
   "source": [
    "###### Zelar"
   ]
  },
  {
   "cell_type": "code",
   "execution_count": null,
   "metadata": {},
   "outputs": [],
   "source": [
    "driver.get('https://zelarimoveis.com.br/imoveis/alugueis?tp=&rm=&ct=&dt=&ire=1')\n",
    "time.sleep(4)"
   ]
  },
  {
   "cell_type": "code",
   "execution_count": null,
   "metadata": {},
   "outputs": [],
   "source": [
    "zelar = driver.find_element_by_xpath('/html/body/div/div[1]/div[1]/div/div[3]/div/div[1]/div/label[2]').text\n",
    "zelar = int(zelar[8:])\n",
    "print(zelar)"
   ]
  },
  {
   "cell_type": "markdown",
   "metadata": {},
   "source": [
    "###### Valor"
   ]
  },
  {
   "cell_type": "code",
   "execution_count": null,
   "metadata": {},
   "outputs": [],
   "source": [
    "driver.get('https://www.valorimobiliaria.com.br/imoveis-para-aluguel')\n",
    "time.sleep(3)"
   ]
  },
  {
   "cell_type": "code",
   "execution_count": null,
   "metadata": {},
   "outputs": [],
   "source": [
    "valor = driver.find_element_by_xpath('//*[@id=\"page-imoveis-para-aluguel\"]/main/div[2]/div/b[1]').text\n",
    "valor = int(valor)\n",
    "print(valor)"
   ]
  },
  {
   "cell_type": "markdown",
   "metadata": {},
   "source": [
    "###### Julio Passos Imoveis"
   ]
  },
  {
   "cell_type": "code",
   "execution_count": null,
   "metadata": {},
   "outputs": [],
   "source": [
    "driver.get('https://www.juliopassosimoveis.com.br/imoveis/para-alugar')\n",
    "time.sleep(2)"
   ]
  },
  {
   "cell_type": "code",
   "execution_count": null,
   "metadata": {},
   "outputs": [],
   "source": [
    "jpi = driver.find_element_by_class_name('h-money').text\n",
    "jpi = int(jpi)\n",
    "print(jpi)"
   ]
  },
  {
   "cell_type": "markdown",
   "metadata": {},
   "source": [
    "###### Habilar"
   ]
  },
  {
   "cell_type": "code",
   "execution_count": null,
   "metadata": {},
   "outputs": [],
   "source": [
    "driver.get('https://www.habilar.net/imoveis/para-alugar')\n",
    "time.sleep(2)"
   ]
  },
  {
   "cell_type": "code",
   "execution_count": null,
   "metadata": {},
   "outputs": [],
   "source": [
    "habilar = driver.find_element_by_class_name('h-money').text\n",
    "habilar = int(habilar)\n",
    "print(habilar)"
   ]
  },
  {
   "cell_type": "markdown",
   "metadata": {},
   "source": [
    "###### Felizola"
   ]
  },
  {
   "cell_type": "code",
   "execution_count": null,
   "metadata": {},
   "outputs": [],
   "source": [
    "driver.get('https://www.felizolaimobiliaria.com.br/aluguel/imoveis/todas-as-cidades/todos-os-bairros/0-quartos/0-suite-ou-mais/0-vaga/0-banheiro-ou-mais/todos-os-condominios?valorminimo=0&valormaximo=0&pagina=1')\n",
    "time.sleep(4)"
   ]
  },
  {
   "cell_type": "code",
   "execution_count": null,
   "metadata": {},
   "outputs": [],
   "source": [
    "felizola = driver.find_element_by_id('numero-imoveis').text\n",
    "felizola = int(felizola[:3].strip())\n",
    "print(felizola)"
   ]
  },
  {
   "cell_type": "markdown",
   "metadata": {},
   "source": [
    "###### JLC"
   ]
  },
  {
   "cell_type": "code",
   "execution_count": null,
   "metadata": {},
   "outputs": [],
   "source": [
    "driver.get('https://jlcimobiliaria.com.br/imoveis.php?para=alugar')\n",
    "time.sleep(2)"
   ]
  },
  {
   "cell_type": "code",
   "execution_count": null,
   "metadata": {
    "scrolled": true
   },
   "outputs": [],
   "source": [
    "jlc2 = driver.find_element_by_tag_name('h1').text\n",
    "#jlc = int(jlc[:2].strip())\n",
    "jlc3 = jlc2.split()\n",
    "jlc = jlc3[0]\n",
    "jlc = int(jlc)\n",
    "print(jlc)"
   ]
  },
  {
   "cell_type": "markdown",
   "metadata": {},
   "source": [
    "###### Barros e Nobre"
   ]
  },
  {
   "cell_type": "code",
   "execution_count": null,
   "metadata": {},
   "outputs": [],
   "source": [
    "driver.get('https://www.barrosenobre.com.br/imoveis.php?para=alugar')\n",
    "time.sleep(2)"
   ]
  },
  {
   "cell_type": "code",
   "execution_count": null,
   "metadata": {},
   "outputs": [],
   "source": [
    "barros = driver.find_element_by_class_name('uppercase').text\n",
    "barros = int(barros[:3].strip())\n",
    "print(barros)"
   ]
  },
  {
   "cell_type": "markdown",
   "metadata": {},
   "source": [
    "###### Jacaranda"
   ]
  },
  {
   "cell_type": "code",
   "execution_count": null,
   "metadata": {},
   "outputs": [],
   "source": [
    "driver.get('http://www.jacarandaimoveis.com/imoveis.php?para=alugar')\n",
    "time.sleep(2)"
   ]
  },
  {
   "cell_type": "code",
   "execution_count": null,
   "metadata": {},
   "outputs": [],
   "source": [
    "jacaranda = driver.find_element_by_tag_name('h1').text\n",
    "jacaranda = int(jacaranda[:3].strip())\n",
    "print(jacaranda)"
   ]
  },
  {
   "cell_type": "markdown",
   "metadata": {},
   "source": [
    "###### Barros e Filhos"
   ]
  },
  {
   "cell_type": "code",
   "execution_count": null,
   "metadata": {},
   "outputs": [],
   "source": [
    "driver.get('https://www.barrosfilhosimoveis.com.br/imoveis/para-alugar')\n",
    "time.sleep(2)"
   ]
  },
  {
   "cell_type": "code",
   "execution_count": null,
   "metadata": {},
   "outputs": [],
   "source": [
    "barrosfilhos = driver.find_element_by_class_name('h-money').text\n",
    "barrosfilhos = int(barrosfilhos[:3].strip())\n",
    "print(barrosfilhos)"
   ]
  },
  {
   "cell_type": "markdown",
   "metadata": {},
   "source": [
    "###### A4"
   ]
  },
  {
   "cell_type": "code",
   "execution_count": null,
   "metadata": {},
   "outputs": [],
   "source": [
    "driver.get('https://www.a4imobiliaria.com.br/imoveis/para-alugar')\n",
    "time.sleep(2)"
   ]
  },
  {
   "cell_type": "code",
   "execution_count": null,
   "metadata": {},
   "outputs": [],
   "source": [
    "driver.find_element_by_class_name('close').click()"
   ]
  },
  {
   "cell_type": "code",
   "execution_count": null,
   "metadata": {},
   "outputs": [],
   "source": [
    "a4 = driver.find_element_by_class_name('h-money').text\n",
    "a4 = int(a4)\n",
    "print(a4)"
   ]
  },
  {
   "cell_type": "markdown",
   "metadata": {},
   "source": [
    "###### Century"
   ]
  },
  {
   "cell_type": "code",
   "execution_count": null,
   "metadata": {},
   "outputs": [],
   "source": [
    "driver.get('https://centuryimobiliaria.com.br/imoveis.php?para=alugar')\n",
    "time.sleep(2)"
   ]
  },
  {
   "cell_type": "code",
   "execution_count": null,
   "metadata": {},
   "outputs": [],
   "source": [
    "century = driver.find_element_by_class_name('breadcrumb_title').text\n",
    "century = int(century[:3].strip())\n",
    "print(century)"
   ]
  },
  {
   "cell_type": "markdown",
   "metadata": {},
   "source": [
    "###### Planeta"
   ]
  },
  {
   "cell_type": "code",
   "execution_count": null,
   "metadata": {},
   "outputs": [],
   "source": [
    "driver.get('https://www.planetaimoveisse.com.br/imoveis/para-alugar')\n",
    "time.sleep(2)"
   ]
  },
  {
   "cell_type": "code",
   "execution_count": null,
   "metadata": {},
   "outputs": [],
   "source": [
    "planeta = driver.find_element_by_class_name('h-money').text\n",
    "planeta = int(planeta)\n",
    "print(planeta)"
   ]
  },
  {
   "cell_type": "markdown",
   "metadata": {},
   "source": [
    "###### Aragao\n"
   ]
  },
  {
   "cell_type": "code",
   "execution_count": null,
   "metadata": {},
   "outputs": [],
   "source": [
    "driver.get('https://www.aragaoimoveisse.com.br/aragaoimoveis/aluguel')\n",
    "time.sleep(2)"
   ]
  },
  {
   "cell_type": "code",
   "execution_count": null,
   "metadata": {},
   "outputs": [],
   "source": [
    "aragao = driver.find_element_by_tag_name('h1').text\n",
    "aragao = int(aragao[:2].strip())\n",
    "print(aragao)"
   ]
  },
  {
   "cell_type": "markdown",
   "metadata": {},
   "source": [
    "###### Gonzalez\n",
    "\n"
   ]
  },
  {
   "cell_type": "code",
   "execution_count": null,
   "metadata": {},
   "outputs": [],
   "source": [
    "driver.get('https://www.gonzalezimobiliaria.com.br/imoveis/2/aluguel')\n",
    "time.sleep(2)"
   ]
  },
  {
   "cell_type": "code",
   "execution_count": null,
   "metadata": {},
   "outputs": [],
   "source": [
    "gonzalez = driver.find_element_by_class_name('subtitulo').text\n",
    "gonzalez = int(gonzalez[:3].strip())\n",
    "print(gonzalez)"
   ]
  },
  {
   "cell_type": "markdown",
   "metadata": {},
   "source": [
    "###### Promov"
   ]
  },
  {
   "cell_type": "code",
   "execution_count": null,
   "metadata": {},
   "outputs": [],
   "source": [
    "driver.get('https://www.promovimoveis.com.br/imoveis/para-alugar')\n",
    "time.sleep(2)"
   ]
  },
  {
   "cell_type": "code",
   "execution_count": null,
   "metadata": {},
   "outputs": [],
   "source": [
    "promov = driver.find_element_by_class_name('h-money').text\n",
    "promov = int(promov)\n",
    "print(promov)"
   ]
  },
  {
   "cell_type": "markdown",
   "metadata": {},
   "source": [
    "###### GT"
   ]
  },
  {
   "cell_type": "code",
   "execution_count": null,
   "metadata": {},
   "outputs": [],
   "source": [
    "driver.get('https://www.gt.imb.br/imoveis/para-alugar')\n",
    "time.sleep(2)"
   ]
  },
  {
   "cell_type": "code",
   "execution_count": null,
   "metadata": {},
   "outputs": [],
   "source": [
    "gt = driver.find_element_by_class_name('h-money').text\n",
    "gt = int(gt)\n",
    "print(gt)"
   ]
  },
  {
   "cell_type": "markdown",
   "metadata": {},
   "source": [
    "### Criando lista"
   ]
  },
  {
   "cell_type": "code",
   "execution_count": null,
   "metadata": {},
   "outputs": [],
   "source": [
    "disponiveis = [datahoje, legislar, cohab, zelar, valor, jpi, habilar, felizola, jlc, barros, jacaranda, barrosfilhos, a4, century, planeta, aragao, gonzalez, promov, gt]\n",
    "print(disponiveis)"
   ]
  },
  {
   "cell_type": "markdown",
   "metadata": {},
   "source": [
    "#### Abrindo Planilha Excel"
   ]
  },
  {
   "cell_type": "code",
   "execution_count": null,
   "metadata": {
    "scrolled": true
   },
   "outputs": [],
   "source": [
    "imoveis = pd.read_excel('imoveis_disponiveis.xlsx')\n",
    "imoveis = imoveis[['DATA', 'LEGISLAR', 'COHAB', 'ZELAR', 'VALOR', 'JULIO PASSOS', 'HABILAR', 'FELIZOLA', 'JLC', 'BARROS E NOBRE', 'JACARANDA', 'BARROS FILHO', 'A4', 'CENTURY', 'PLANETA', 'ARAGAO', 'GONZALEZ', 'PROMOV', 'GT']]\n",
    "display(imoveis)"
   ]
  },
  {
   "cell_type": "markdown",
   "metadata": {},
   "source": [
    "#### Adicionando o resultado da consulta no DF"
   ]
  },
  {
   "cell_type": "code",
   "execution_count": null,
   "metadata": {},
   "outputs": [],
   "source": [
    "final_df = len(imoveis['DATA'])\n",
    "print(final_df)\n",
    "imoveis.loc[final_df] = disponiveis\n",
    "display(imoveis)"
   ]
  },
  {
   "cell_type": "markdown",
   "metadata": {},
   "source": [
    "#### Criando gráfico com o resultado do dia"
   ]
  },
  {
   "cell_type": "code",
   "execution_count": null,
   "metadata": {},
   "outputs": [],
   "source": [
    "#import matplotlib.pyplot as plt\n",
    "\n",
    "cont = 0\n",
    "valores = []\n",
    "grupos = ['LEGISLAR', 'COHAB', 'ZELAR', 'VALOR', 'JULIO PASSOS', 'HABILAR', 'FELIZOLA', 'JLC', 'BARROS E NOBRE', 'JACARANDA', 'BARROS FILHO', 'A4', 'CENTURY', 'PLANETA', 'ARAGAO', 'GONZALEZ', 'PROMOV', 'GT']\n",
    "\n",
    "for item in imoveis.iloc[0]:\n",
    "    if cont == 0:\n",
    "        cont +=1\n",
    "    else:\n",
    "        valores.append(item)\n",
    "\n",
    "\n",
    "fig, ax1 = plt.subplots(figsize=(25,8))\n",
    "\n",
    "ax1.bar(grupos, valores, color='#8B0000')\n",
    "\n",
    "ax1.set(title=f\"Imóveis Disponiveis em {datahoje}\", xlabel=\"Imobiliárias\", ylabel=\"Imóveis Disponíveis\")\n",
    "plt.xticks(rotation=45)\n",
    "plt.grid(True, linestyle='dotted')\n",
    "plt.savefig(\"imoveis_disponiveis.jpeg\",dpi=300)\n"
   ]
  },
  {
   "cell_type": "markdown",
   "metadata": {},
   "source": [
    "###### Exportando o resultado para o Excel\n"
   ]
  },
  {
   "cell_type": "code",
   "execution_count": null,
   "metadata": {},
   "outputs": [],
   "source": [
    "imoveis.to_excel('imoveis_disponiveis.xlsx')"
   ]
  },
  {
   "cell_type": "markdown",
   "metadata": {},
   "source": [
    "###### Enviando o Excel atualizado via email"
   ]
  },
  {
   "cell_type": "code",
   "execution_count": null,
   "metadata": {},
   "outputs": [],
   "source": [
    "email = 'email@do_remetente.com'\n",
    "destinatario = ['destinatario1@hotmail.com', 'destinatario2@hotmail.com', 'destinatario3@hotmail.com']\n",
    "\n",
    "usuario = yagmail.SMTP(user=email, password='sua_senha_do_gmail')\n",
    "\n",
    "usuario.send(to=destinatario, subject=f'Imóveis Disponíveis em {datahoje}', contents=f'Oi,\\nSegue em anexo os imóveis disponíveis nas imobiliárias em {datahoje}.\\nAtenciosamente,', attachments=['imoveis_disponiveis.jpeg', 'imoveis_disponiveis.xlsx'])\n",
    "\n",
    "print(f'Email enviado de {email} para {destinatario}.')"
   ]
  }
 ],
 "metadata": {
  "kernelspec": {
   "display_name": "Python 3",
   "language": "python",
   "name": "python3"
  },
  "language_info": {
   "codemirror_mode": {
    "name": "ipython",
    "version": 3
   },
   "file_extension": ".py",
   "mimetype": "text/x-python",
   "name": "python",
   "nbconvert_exporter": "python",
   "pygments_lexer": "ipython3",
   "version": "3.8.5"
  }
 },
 "nbformat": 4,
 "nbformat_minor": 4
}
